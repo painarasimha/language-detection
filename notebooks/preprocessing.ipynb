{
 "cells": [
  {
   "cell_type": "code",
   "execution_count": 1,
   "id": "f5adcd4f",
   "metadata": {},
   "outputs": [],
   "source": [
    "import pandas as pd"
   ]
  },
  {
   "cell_type": "code",
   "execution_count": 2,
   "id": "0f92b48e",
   "metadata": {},
   "outputs": [
    {
     "name": "stdout",
     "output_type": "stream",
     "text": [
      "Column names:  Index(['Text', 'Language'], dtype='object')\n",
      "\n",
      "View samples:                                                  Text Language\n",
      "0   Nature, in the broadest sense, is the natural...  English\n",
      "1  \"Nature\" can refer to the phenomena of the phy...  English\n",
      "2  The study of nature is a large, if not the onl...  English\n",
      "3  Although humans are part of nature, human acti...  English\n",
      "4  [1] The word nature is borrowed from the Old F...  English\n"
     ]
    }
   ],
   "source": [
    "data = pd.read_csv('../datasets/Language_Detection.csv')\n",
    "print(\"Column names: \",data.columns)\n",
    "print(\"\\nView samples: \",data.head())"
   ]
  },
  {
   "cell_type": "code",
   "execution_count": 3,
   "id": "78a7590e",
   "metadata": {},
   "outputs": [
    {
     "name": "stdout",
     "output_type": "stream",
     "text": [
      "Text        0\n",
      "Language    0\n",
      "dtype: int64\n"
     ]
    }
   ],
   "source": [
    "# Check the missing values\n",
    "print(data.isnull().sum())\n",
    "\n",
    "# drop rows with nulls\n",
    "data.dropna(inplace=True)\n",
    "\n",
    "# features and labels\n",
    "x = data['Text']\n",
    "y = data['Language']"
   ]
  },
  {
   "cell_type": "code",
   "execution_count": 4,
   "id": "f7b89108",
   "metadata": {},
   "outputs": [],
   "source": [
    "from sklearn.preprocessing import LabelEncoder\n",
    "\n",
    "le = LabelEncoder()\n",
    "y_encoded = le.fit_transform(y)"
   ]
  },
  {
   "cell_type": "code",
   "execution_count": 5,
   "id": "9ba959cb",
   "metadata": {},
   "outputs": [],
   "source": [
    "from sklearn.feature_extraction.text import TfidfVectorizer\n",
    "\n",
    "tfidf = TfidfVectorizer(analyzer='char', ngram_range=(1, 3))\n",
    "X_vectorized = tfidf.fit_transform(x)"
   ]
  },
  {
   "cell_type": "code",
   "execution_count": 6,
   "id": "3d49f192",
   "metadata": {},
   "outputs": [
    {
     "name": "stdout",
     "output_type": "stream",
     "text": [
      "Vectorized text shape: (10337, 67109)\n",
      "Encoded labels: {0, 1, 2, 3, 4, 5, 6, 7, 8, 9, 10, 11, 12, 13, 14, 15, 16}\n"
     ]
    }
   ],
   "source": [
    "print(f\"Vectorized text shape: {X_vectorized.shape}\")\n",
    "print(f\"Encoded labels: {set(y_encoded)}\")"
   ]
  },
  {
   "cell_type": "code",
   "execution_count": null,
   "id": "98bca367",
   "metadata": {},
   "outputs": [],
   "source": []
  }
 ],
 "metadata": {
  "kernelspec": {
   "display_name": "Python 3",
   "language": "python",
   "name": "python3"
  },
  "language_info": {
   "codemirror_mode": {
    "name": "ipython",
    "version": 3
   },
   "file_extension": ".py",
   "mimetype": "text/x-python",
   "name": "python",
   "nbconvert_exporter": "python",
   "pygments_lexer": "ipython3",
   "version": "3.12.7"
  }
 },
 "nbformat": 4,
 "nbformat_minor": 5
}
